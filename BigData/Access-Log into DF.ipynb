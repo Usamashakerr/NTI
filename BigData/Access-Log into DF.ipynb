{
 "cells": [
  {
   "cell_type": "code",
   "execution_count": 7,
   "metadata": {},
   "outputs": [],
   "source": [
    "from pyspark import SparkContext\n",
    "from pyspark.sql import SparkSession\n",
    "from pyspark.sql import Row\n",
    "from datetime import datetime"
   ]
  },
  {
   "cell_type": "code",
   "execution_count": 8,
   "metadata": {},
   "outputs": [],
   "source": [
    "sc = SparkContext(appName=\"AccessLogsAnalysis\")\n",
    "sparkbb = SparkSession.builder.appName(\"AccessLogsAnalysis\").getOrCreate()"
   ]
  },
  {
   "cell_type": "code",
   "execution_count": 14,
   "metadata": {},
   "outputs": [],
   "source": [
    "input_fille=sc.textFile('/home/bigdata/Desktop/apache-access-log.txt').map(lambda line:line.split(\" \"))"
   ]
  },
  {
   "cell_type": "code",
   "execution_count": 36,
   "metadata": {},
   "outputs": [
    {
     "data": {
      "text/plain": [
       "[['200.4.91.190',\n",
       "  '-',\n",
       "  '-',\n",
       "  '[25/May/2015:23:11:15',\n",
       "  '+0000]',\n",
       "  '\"GET',\n",
       "  '/',\n",
       "  'HTTP/1.0\"',\n",
       "  '200',\n",
       "  '3557',\n",
       "  '\"-\"',\n",
       "  '\"Mozilla/4.0',\n",
       "  '(compatible;',\n",
       "  'MSIE',\n",
       "  '6.0;',\n",
       "  'Windows',\n",
       "  'NT',\n",
       "  '5.1;',\n",
       "  'SV1)\"']]"
      ]
     },
     "execution_count": 36,
     "metadata": {},
     "output_type": "execute_result"
    }
   ],
   "source": [
    "input_fille.take(1)"
   ]
  },
  {
   "cell_type": "code",
   "execution_count": 29,
   "metadata": {},
   "outputs": [],
   "source": [
    "from datetime import datetime\n",
    "from pyspark.sql import Row\n",
    "\n",
    "df = input_fille.map(lambda x: Row(\n",
    "    Ip=x[0],  \n",
    "    TimeStamp=datetime.strptime(x[3][1:], '%d/%b/%Y:%H:%M:%S'),  \n",
    "    Request=x[5][1:],  \n",
    "    Browser=x[11][1:] \n",
    "))\n"
   ]
  },
  {
   "cell_type": "code",
   "execution_count": 30,
   "metadata": {},
   "outputs": [],
   "source": [
    "DFRDD=sparkbb.createDataFrame(df)"
   ]
  },
  {
   "cell_type": "code",
   "execution_count": 37,
   "metadata": {},
   "outputs": [
    {
     "name": "stdout",
     "output_type": "stream",
     "text": [
      "+---------------+-------------------+-------+------------+\n",
      "|             Ip|          TimeStamp|Request|     Browser|\n",
      "+---------------+-------------------+-------+------------+\n",
      "|   200.4.91.190|2015-05-25 23:11:15|    GET| Mozilla/4.0|\n",
      "| 209.112.63.162|2015-05-25 23:11:15|    GET| Mozilla/4.0|\n",
      "|   209.112.9.34|2015-05-25 23:11:15|    GET|Mozilla/3.01|\n",
      "| 209.112.47.220|2015-05-25 23:11:15|    GET| Mozilla/5.0|\n",
      "|   200.4.93.122|2015-05-25 23:11:15|    GET| Mozilla/4.0|\n",
      "|155.156.150.253|2015-05-25 23:11:15|    GET|  Opera/9.00|\n",
      "|  155.157.99.22|2015-05-25 23:11:15|    GET| Mozilla/5.0|\n",
      "|155.156.103.181|2015-05-25 23:11:15|    GET|  Opera/9.00|\n",
      "|155.156.140.104|2015-05-25 23:11:15|    GET| Mozilla/5.0|\n",
      "|155.157.137.192|2015-05-25 23:11:15|    GET| Mozilla/5.0|\n",
      "+---------------+-------------------+-------+------------+\n",
      "only showing top 10 rows\n",
      "\n"
     ]
    }
   ],
   "source": [
    "DFRDD.show(10)"
   ]
  },
  {
   "cell_type": "code",
   "execution_count": null,
   "metadata": {},
   "outputs": [],
   "source": []
  }
 ],
 "metadata": {
  "kernelspec": {
   "display_name": "Python 3 (ipykernel)",
   "language": "python",
   "name": "python3"
  },
  "language_info": {
   "codemirror_mode": {
    "name": "ipython",
    "version": 3
   },
   "file_extension": ".py",
   "mimetype": "text/x-python",
   "name": "python",
   "nbconvert_exporter": "python",
   "pygments_lexer": "ipython3",
   "version": "3.12.4"
  }
 },
 "nbformat": 4,
 "nbformat_minor": 4
}
