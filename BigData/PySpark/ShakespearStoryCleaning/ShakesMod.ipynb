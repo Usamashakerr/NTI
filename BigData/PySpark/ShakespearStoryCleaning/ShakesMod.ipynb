{
 "cells": [
  {
   "cell_type": "code",
   "execution_count": 1,
   "metadata": {},
   "outputs": [],
   "source": [
    "import pyspark\n",
    "from pyspark.sql import SparkSession\n",
    "from pyspark.sql.functions import lower , regexp_replace,split,concat_ws,col,udf\n",
    "from pyspark.ml.feature import StopWordsRemover\n",
    "from pyspark.sql.types import ArrayType,StringType\n",
    "import nltk"
   ]
  },
  {
   "cell_type": "code",
   "execution_count": 2,
   "metadata": {},
   "outputs": [],
   "source": [
    "spark=SparkSession.builder.getOrCreate()"
   ]
  },
  {
   "cell_type": "code",
   "execution_count": 3,
   "metadata": {},
   "outputs": [],
   "source": [
    "df=spark.read.text('/home/bigdata/Desktop/shakespeare.txt')"
   ]
  },
  {
   "cell_type": "code",
   "execution_count": 4,
   "metadata": {},
   "outputs": [
    {
     "name": "stdout",
     "output_type": "stream",
     "text": [
      "+--------------------+\n",
      "|               value|\n",
      "+--------------------+\n",
      "|This is the 100th...|\n",
      "|is presented in c...|\n",
      "|Library of the Fu...|\n",
      "|often releases Et...|\n",
      "|                    |\n",
      "|         Shakespeare|\n",
      "|                    |\n",
      "|*This Etext has c...|\n",
      "|                    |\n",
      "|<<THIS ELECTRONIC...|\n",
      "+--------------------+\n",
      "only showing top 10 rows\n",
      "\n"
     ]
    }
   ],
   "source": [
    "df.show(10)"
   ]
  },
  {
   "cell_type": "code",
   "execution_count": 5,
   "metadata": {},
   "outputs": [],
   "source": [
    "df=df.withColumn('line',lower(col('value')))"
   ]
  },
  {
   "cell_type": "code",
   "execution_count": 6,
   "metadata": {},
   "outputs": [
    {
     "name": "stdout",
     "output_type": "stream",
     "text": [
      "+--------------------+--------------------+\n",
      "|               value|                line|\n",
      "+--------------------+--------------------+\n",
      "|This is the 100th...|this is the 100th...|\n",
      "|is presented in c...|is presented in c...|\n",
      "+--------------------+--------------------+\n",
      "only showing top 2 rows\n",
      "\n"
     ]
    }
   ],
   "source": [
    "df.show(2)"
   ]
  },
  {
   "cell_type": "code",
   "execution_count": 7,
   "metadata": {},
   "outputs": [],
   "source": [
    "df=df.withColumn('line',regexp_replace(col('line'),r'[^a-z\\s]',''))"
   ]
  },
  {
   "cell_type": "code",
   "execution_count": 8,
   "metadata": {},
   "outputs": [],
   "source": [
    "df=df.withColumn('words',split(col('line'),' '))"
   ]
  },
  {
   "cell_type": "code",
   "execution_count": 9,
   "metadata": {},
   "outputs": [
    {
     "name": "stdout",
     "output_type": "stream",
     "text": [
      "+--------------------+--------------------+--------------------+\n",
      "|               value|                line|               words|\n",
      "+--------------------+--------------------+--------------------+\n",
      "|This is the 100th...|this is the th et...|[this, is, the, t...|\n",
      "|is presented in c...|is presented in c...|[is, presented, i...|\n",
      "|Library of the Fu...|library of the fu...|[library, of, the...|\n",
      "|often releases Et...|often releases et...|[often, releases,...|\n",
      "+--------------------+--------------------+--------------------+\n",
      "only showing top 4 rows\n",
      "\n"
     ]
    }
   ],
   "source": [
    "df.show(4)"
   ]
  },
  {
   "cell_type": "code",
   "execution_count": 10,
   "metadata": {},
   "outputs": [],
   "source": [
    "remover = StopWordsRemover(inputCol='words', outputCol='filtered_words')"
   ]
  },
  {
   "cell_type": "code",
   "execution_count": 11,
   "metadata": {},
   "outputs": [],
   "source": [
    "df=remover.transform(df)"
   ]
  },
  {
   "cell_type": "code",
   "execution_count": 12,
   "metadata": {},
   "outputs": [
    {
     "name": "stdout",
     "output_type": "stream",
     "text": [
      "+--------------------+--------------------+--------------------+--------------------+\n",
      "|               value|                line|               words|      filtered_words|\n",
      "+--------------------+--------------------+--------------------+--------------------+\n",
      "|This is the 100th...|this is the th et...|[this, is, the, t...|[th, etext, file,...|\n",
      "|is presented in c...|is presented in c...|[is, presented, i...|[presented, coope...|\n",
      "|Library of the Fu...|library of the fu...|[library, of, the...|[library, future,...|\n",
      "|often releases Et...|often releases et...|[often, releases,...|[often, releases,...|\n",
      "|                    |                    |                  []|                  []|\n",
      "+--------------------+--------------------+--------------------+--------------------+\n",
      "only showing top 5 rows\n",
      "\n"
     ]
    }
   ],
   "source": [
    "df.show(5)"
   ]
  },
  {
   "cell_type": "code",
   "execution_count": 13,
   "metadata": {},
   "outputs": [
    {
     "name": "stderr",
     "output_type": "stream",
     "text": [
      "[nltk_data] Downloading package words to /home/bigdata/nltk_data...\n",
      "[nltk_data]   Package words is already up-to-date!\n"
     ]
    },
    {
     "data": {
      "text/plain": [
       "True"
      ]
     },
     "execution_count": 13,
     "metadata": {},
     "output_type": "execute_result"
    }
   ],
   "source": [
    "nltk.download('words')"
   ]
  },
  {
   "cell_type": "code",
   "execution_count": 14,
   "metadata": {},
   "outputs": [],
   "source": [
    "english_words=set(w.lower() for w in nltk.corpus.words.words())"
   ]
  },
  {
   "cell_type": "code",
   "execution_count": 15,
   "metadata": {},
   "outputs": [],
   "source": [
    "def filter_english_words(word_list):\n",
    "    return [word for word in word_list if word in english_words] #return the matching words in the corpus and our text file\n",
    "\n",
    "filter_english_udf=udf(filter_english_words,ArrayType(StringType()))\n",
    "df=df.withColumn('filter_words',filter_english_udf(col('filtered_words')))"
   ]
  },
  {
   "cell_type": "code",
   "execution_count": 16,
   "metadata": {},
   "outputs": [
    {
     "name": "stdout",
     "output_type": "stream",
     "text": [
      "+--------------------+--------------------+--------------------+--------------------+--------------------+\n",
      "|               value|                line|               words|      filtered_words|        filter_words|\n",
      "+--------------------+--------------------+--------------------+--------------------+--------------------+\n",
      "|This is the 100th...|this is the th et...|[this, is, the, t...|[th, etext, file,...| [th, file, project]|\n",
      "|is presented in c...|is presented in c...|[is, presented, i...|[presented, coope...|    [world, library]|\n",
      "|Library of the Fu...|library of the fu...|[library, of, the...|[library, future,...|[library, future,...|\n",
      "|often releases Et...|often releases et...|[often, releases,...|[often, releases,...|[often, public, d...|\n",
      "|                    |                    |                  []|                  []|                  []|\n",
      "|         Shakespeare|         shakespeare|       [shakespeare]|       [shakespeare]|                  []|\n",
      "+--------------------+--------------------+--------------------+--------------------+--------------------+\n",
      "only showing top 6 rows\n",
      "\n"
     ]
    }
   ],
   "source": [
    "df.show(6)"
   ]
  },
  {
   "cell_type": "code",
   "execution_count": 17,
   "metadata": {},
   "outputs": [],
   "source": [
    "df=df.withColumn('cleaned_line',concat_ws(' ',col('filter_words')))"
   ]
  },
  {
   "cell_type": "code",
   "execution_count": 18,
   "metadata": {},
   "outputs": [
    {
     "name": "stdout",
     "output_type": "stream",
     "text": [
      "+--------------------+\n",
      "|        cleaned_line|\n",
      "+--------------------+\n",
      "|     th file project|\n",
      "|       world library|\n",
      "|library future pr...|\n",
      "| often public domain|\n",
      "|                    |\n",
      "+--------------------+\n",
      "only showing top 5 rows\n",
      "\n"
     ]
    }
   ],
   "source": [
    "df.select('cleaned_line').show(5)"
   ]
  },
  {
   "cell_type": "code",
   "execution_count": 30,
   "metadata": {},
   "outputs": [],
   "source": [
    "df = df.filter(col(\"cleaned_line\") != \"\") "
   ]
  },
  {
   "cell_type": "code",
   "execution_count": 31,
   "metadata": {},
   "outputs": [
    {
     "name": "stdout",
     "output_type": "stream",
     "text": [
      "+--------------------+\n",
      "|        cleaned_line|\n",
      "+--------------------+\n",
      "|     th file project|\n",
      "|       world library|\n",
      "|library future pr...|\n",
      "| often public domain|\n",
      "|certain copyright...|\n",
      "+--------------------+\n",
      "only showing top 5 rows\n",
      "\n"
     ]
    }
   ],
   "source": [
    "df.select('cleaned_line').show(5)"
   ]
  },
  {
   "cell_type": "code",
   "execution_count": 32,
   "metadata": {},
   "outputs": [],
   "source": [
    "df.select(\"cleaned_line\").coalesce(1).write.text(\"/home/bigdata/Desktop/ShakesModFinal\")\n"
   ]
  },
  {
   "cell_type": "code",
   "execution_count": null,
   "metadata": {},
   "outputs": [],
   "source": []
  }
 ],
 "metadata": {
  "kernelspec": {
   "display_name": "Python 3",
   "language": "python",
   "name": "python3"
  },
  "language_info": {
   "codemirror_mode": {
    "name": "ipython",
    "version": 3
   },
   "file_extension": ".py",
   "mimetype": "text/x-python",
   "name": "python",
   "nbconvert_exporter": "python",
   "pygments_lexer": "ipython3",
   "version": "3.7.4"
  }
 },
 "nbformat": 4,
 "nbformat_minor": 2
}
